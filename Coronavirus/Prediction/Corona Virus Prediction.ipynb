{
 "cells": [
  {
   "cell_type": "markdown",
   "metadata": {},
   "source": [
    "# This Model Predicts whether a person has Coronavirus or not based on the dummy data"
   ]
  },
  {
   "cell_type": "code",
   "execution_count": 45,
   "metadata": {},
   "outputs": [],
   "source": [
    "import pandas as pd\n",
    "import numpy as np\n",
    "import seaborn as sns"
   ]
  },
  {
   "cell_type": "code",
   "execution_count": 46,
   "metadata": {},
   "outputs": [
    {
     "data": {
      "text/html": [
       "<div>\n",
       "<style scoped>\n",
       "    .dataframe tbody tr th:only-of-type {\n",
       "        vertical-align: middle;\n",
       "    }\n",
       "\n",
       "    .dataframe tbody tr th {\n",
       "        vertical-align: top;\n",
       "    }\n",
       "\n",
       "    .dataframe thead th {\n",
       "        text-align: right;\n",
       "    }\n",
       "</style>\n",
       "<table border=\"1\" class=\"dataframe\">\n",
       "  <thead>\n",
       "    <tr style=\"text-align: right;\">\n",
       "      <th></th>\n",
       "      <th>cough</th>\n",
       "      <th>cold</th>\n",
       "      <th>diarrhea</th>\n",
       "      <th>sore_throat</th>\n",
       "      <th>body_pain</th>\n",
       "      <th>headache</th>\n",
       "      <th>temperature</th>\n",
       "      <th>difficult_breathing</th>\n",
       "      <th>fatigue</th>\n",
       "      <th>travelled14</th>\n",
       "      <th>travel_covid</th>\n",
       "      <th>covid_contact</th>\n",
       "      <th>age</th>\n",
       "      <th>infection_probability</th>\n",
       "    </tr>\n",
       "  </thead>\n",
       "  <tbody>\n",
       "    <tr>\n",
       "      <th>0</th>\n",
       "      <td>0</td>\n",
       "      <td>0</td>\n",
       "      <td>1</td>\n",
       "      <td>1</td>\n",
       "      <td>1</td>\n",
       "      <td>0</td>\n",
       "      <td>1</td>\n",
       "      <td>0</td>\n",
       "      <td>0</td>\n",
       "      <td>3</td>\n",
       "      <td>0</td>\n",
       "      <td>0</td>\n",
       "      <td>2</td>\n",
       "      <td>0</td>\n",
       "    </tr>\n",
       "    <tr>\n",
       "      <th>1</th>\n",
       "      <td>0</td>\n",
       "      <td>1</td>\n",
       "      <td>0</td>\n",
       "      <td>0</td>\n",
       "      <td>0</td>\n",
       "      <td>1</td>\n",
       "      <td>0</td>\n",
       "      <td>0</td>\n",
       "      <td>0</td>\n",
       "      <td>0</td>\n",
       "      <td>0</td>\n",
       "      <td>3</td>\n",
       "      <td>2</td>\n",
       "      <td>0</td>\n",
       "    </tr>\n",
       "    <tr>\n",
       "      <th>2</th>\n",
       "      <td>1</td>\n",
       "      <td>1</td>\n",
       "      <td>0</td>\n",
       "      <td>0</td>\n",
       "      <td>0</td>\n",
       "      <td>0</td>\n",
       "      <td>0</td>\n",
       "      <td>0</td>\n",
       "      <td>0</td>\n",
       "      <td>0</td>\n",
       "      <td>0</td>\n",
       "      <td>3</td>\n",
       "      <td>2</td>\n",
       "      <td>0</td>\n",
       "    </tr>\n",
       "    <tr>\n",
       "      <th>3</th>\n",
       "      <td>0</td>\n",
       "      <td>1</td>\n",
       "      <td>0</td>\n",
       "      <td>1</td>\n",
       "      <td>1</td>\n",
       "      <td>0</td>\n",
       "      <td>0</td>\n",
       "      <td>2</td>\n",
       "      <td>2</td>\n",
       "      <td>0</td>\n",
       "      <td>0</td>\n",
       "      <td>3</td>\n",
       "      <td>0</td>\n",
       "      <td>0</td>\n",
       "    </tr>\n",
       "    <tr>\n",
       "      <th>4</th>\n",
       "      <td>0</td>\n",
       "      <td>1</td>\n",
       "      <td>1</td>\n",
       "      <td>0</td>\n",
       "      <td>0</td>\n",
       "      <td>1</td>\n",
       "      <td>1</td>\n",
       "      <td>0</td>\n",
       "      <td>2</td>\n",
       "      <td>3</td>\n",
       "      <td>3</td>\n",
       "      <td>0</td>\n",
       "      <td>2</td>\n",
       "      <td>1</td>\n",
       "    </tr>\n",
       "    <tr>\n",
       "      <th>5</th>\n",
       "      <td>0</td>\n",
       "      <td>1</td>\n",
       "      <td>0</td>\n",
       "      <td>0</td>\n",
       "      <td>0</td>\n",
       "      <td>1</td>\n",
       "      <td>0</td>\n",
       "      <td>0</td>\n",
       "      <td>2</td>\n",
       "      <td>3</td>\n",
       "      <td>3</td>\n",
       "      <td>3</td>\n",
       "      <td>2</td>\n",
       "      <td>1</td>\n",
       "    </tr>\n",
       "  </tbody>\n",
       "</table>\n",
       "</div>"
      ],
      "text/plain": [
       "   cough  cold  diarrhea  sore_throat  body_pain  headache  temperature  \\\n",
       "0      0     0         1            1          1         0            1   \n",
       "1      0     1         0            0          0         1            0   \n",
       "2      1     1         0            0          0         0            0   \n",
       "3      0     1         0            1          1         0            0   \n",
       "4      0     1         1            0          0         1            1   \n",
       "5      0     1         0            0          0         1            0   \n",
       "\n",
       "   difficult_breathing  fatigue  travelled14  travel_covid  covid_contact  \\\n",
       "0                    0        0            3             0              0   \n",
       "1                    0        0            0             0              3   \n",
       "2                    0        0            0             0              3   \n",
       "3                    2        2            0             0              3   \n",
       "4                    0        2            3             3              0   \n",
       "5                    0        2            3             3              3   \n",
       "\n",
       "   age  infection_probability  \n",
       "0    2                      0  \n",
       "1    2                      0  \n",
       "2    2                      0  \n",
       "3    0                      0  \n",
       "4    2                      1  \n",
       "5    2                      1  "
      ]
     },
     "execution_count": 46,
     "metadata": {},
     "output_type": "execute_result"
    }
   ],
   "source": [
    "df = pd.read_csv(\"Dataset.csv\")\n",
    "df.head(6)"
   ]
  },
  {
   "cell_type": "code",
   "execution_count": 47,
   "metadata": {},
   "outputs": [
    {
     "data": {
      "text/plain": [
       "(5005, 14)"
      ]
     },
     "execution_count": 47,
     "metadata": {},
     "output_type": "execute_result"
    }
   ],
   "source": [
    "df.shape"
   ]
  },
  {
   "cell_type": "code",
   "execution_count": 48,
   "metadata": {},
   "outputs": [
    {
     "data": {
      "text/plain": [
       "0    3336\n",
       "1    1669\n",
       "Name: infection_probability, dtype: int64"
      ]
     },
     "execution_count": 48,
     "metadata": {},
     "output_type": "execute_result"
    }
   ],
   "source": [
    "df[\"infection_probability\"].value_counts()"
   ]
  },
  {
   "cell_type": "code",
   "execution_count": 49,
   "metadata": {},
   "outputs": [
    {
     "data": {
      "text/plain": [
       "<matplotlib.axes._subplots.AxesSubplot at 0x1eca953d908>"
      ]
     },
     "execution_count": 49,
     "metadata": {},
     "output_type": "execute_result"
    },
    {
     "data": {
      "image/png": "[encoded data removed]",
      "text/plain": [
       "<Figure size 432x288 with 1 Axes>"
      ]
     },
     "metadata": {
      "needs_background": "light"
     },
     "output_type": "display_data"
    }
   ],
   "source": [
    "sns.countplot(df[\"infection_probability\"])"
   ]
  },
  {
   "cell_type": "code",
   "execution_count": 50,
   "metadata": {},
   "outputs": [
    {
     "data": {
      "text/html": [
       "<div>\n",
       "<style scoped>\n",
       "    .dataframe tbody tr th:only-of-type {\n",
       "        vertical-align: middle;\n",
       "    }\n",
       "\n",
       "    .dataframe tbody tr th {\n",
       "        vertical-align: top;\n",
       "    }\n",
       "\n",
       "    .dataframe thead th {\n",
       "        text-align: right;\n",
       "    }\n",
       "</style>\n",
       "<table border=\"1\" class=\"dataframe\">\n",
       "  <thead>\n",
       "    <tr style=\"text-align: right;\">\n",
       "      <th></th>\n",
       "      <th>cough</th>\n",
       "      <th>cold</th>\n",
       "      <th>diarrhea</th>\n",
       "      <th>sore_throat</th>\n",
       "      <th>body_pain</th>\n",
       "      <th>headache</th>\n",
       "      <th>temperature</th>\n",
       "      <th>difficult_breathing</th>\n",
       "      <th>fatigue</th>\n",
       "      <th>travelled14</th>\n",
       "      <th>travel_covid</th>\n",
       "      <th>covid_contact</th>\n",
       "      <th>age</th>\n",
       "      <th>infection_probability</th>\n",
       "    </tr>\n",
       "  </thead>\n",
       "  <tbody>\n",
       "    <tr>\n",
       "      <th>count</th>\n",
       "      <td>5005.00000</td>\n",
       "      <td>5005.000000</td>\n",
       "      <td>5005.00000</td>\n",
       "      <td>5005.000000</td>\n",
       "      <td>5005.000000</td>\n",
       "      <td>5005.000000</td>\n",
       "      <td>5005.000000</td>\n",
       "      <td>5005.000000</td>\n",
       "      <td>5005.000000</td>\n",
       "      <td>5005.000000</td>\n",
       "      <td>5005.000000</td>\n",
       "      <td>5005.000000</td>\n",
       "      <td>5005.000000</td>\n",
       "      <td>5005.000000</td>\n",
       "    </tr>\n",
       "    <tr>\n",
       "      <th>mean</th>\n",
       "      <td>0.50050</td>\n",
       "      <td>0.515485</td>\n",
       "      <td>0.50010</td>\n",
       "      <td>0.494306</td>\n",
       "      <td>0.492707</td>\n",
       "      <td>0.491109</td>\n",
       "      <td>0.503497</td>\n",
       "      <td>0.989810</td>\n",
       "      <td>0.974625</td>\n",
       "      <td>1.512288</td>\n",
       "      <td>1.479920</td>\n",
       "      <td>1.512288</td>\n",
       "      <td>1.004995</td>\n",
       "      <td>0.333467</td>\n",
       "    </tr>\n",
       "    <tr>\n",
       "      <th>std</th>\n",
       "      <td>0.50005</td>\n",
       "      <td>0.499810</td>\n",
       "      <td>0.50005</td>\n",
       "      <td>0.500018</td>\n",
       "      <td>0.499997</td>\n",
       "      <td>0.499971</td>\n",
       "      <td>0.500038</td>\n",
       "      <td>1.000048</td>\n",
       "      <td>0.999778</td>\n",
       "      <td>1.500100</td>\n",
       "      <td>1.500015</td>\n",
       "      <td>1.500100</td>\n",
       "      <td>1.000087</td>\n",
       "      <td>0.471499</td>\n",
       "    </tr>\n",
       "    <tr>\n",
       "      <th>min</th>\n",
       "      <td>0.00000</td>\n",
       "      <td>0.000000</td>\n",
       "      <td>0.00000</td>\n",
       "      <td>0.000000</td>\n",
       "      <td>0.000000</td>\n",
       "      <td>0.000000</td>\n",
       "      <td>0.000000</td>\n",
       "      <td>0.000000</td>\n",
       "      <td>0.000000</td>\n",
       "      <td>0.000000</td>\n",
       "      <td>0.000000</td>\n",
       "      <td>0.000000</td>\n",
       "      <td>0.000000</td>\n",
       "      <td>0.000000</td>\n",
       "    </tr>\n",
       "    <tr>\n",
       "      <th>25%</th>\n",
       "      <td>0.00000</td>\n",
       "      <td>0.000000</td>\n",
       "      <td>0.00000</td>\n",
       "      <td>0.000000</td>\n",
       "      <td>0.000000</td>\n",
       "      <td>0.000000</td>\n",
       "      <td>0.000000</td>\n",
       "      <td>0.000000</td>\n",
       "      <td>0.000000</td>\n",
       "      <td>0.000000</td>\n",
       "      <td>0.000000</td>\n",
       "      <td>0.000000</td>\n",
       "      <td>0.000000</td>\n",
       "      <td>0.000000</td>\n",
       "    </tr>\n",
       "    <tr>\n",
       "      <th>50%</th>\n",
       "      <td>1.00000</td>\n",
       "      <td>1.000000</td>\n",
       "      <td>1.00000</td>\n",
       "      <td>0.000000</td>\n",
       "      <td>0.000000</td>\n",
       "      <td>0.000000</td>\n",
       "      <td>1.000000</td>\n",
       "      <td>0.000000</td>\n",
       "      <td>0.000000</td>\n",
       "      <td>3.000000</td>\n",
       "      <td>0.000000</td>\n",
       "      <td>3.000000</td>\n",
       "      <td>2.000000</td>\n",
       "      <td>0.000000</td>\n",
       "    </tr>\n",
       "    <tr>\n",
       "      <th>75%</th>\n",
       "      <td>1.00000</td>\n",
       "      <td>1.000000</td>\n",
       "      <td>1.00000</td>\n",
       "      <td>1.000000</td>\n",
       "      <td>1.000000</td>\n",
       "      <td>1.000000</td>\n",
       "      <td>1.000000</td>\n",
       "      <td>2.000000</td>\n",
       "      <td>2.000000</td>\n",
       "      <td>3.000000</td>\n",
       "      <td>3.000000</td>\n",
       "      <td>3.000000</td>\n",
       "      <td>2.000000</td>\n",
       "      <td>1.000000</td>\n",
       "    </tr>\n",
       "    <tr>\n",
       "      <th>max</th>\n",
       "      <td>1.00000</td>\n",
       "      <td>1.000000</td>\n",
       "      <td>1.00000</td>\n",
       "      <td>1.000000</td>\n",
       "      <td>1.000000</td>\n",
       "      <td>1.000000</td>\n",
       "      <td>1.000000</td>\n",
       "      <td>2.000000</td>\n",
       "      <td>2.000000</td>\n",
       "      <td>3.000000</td>\n",
       "      <td>3.000000</td>\n",
       "      <td>3.000000</td>\n",
       "      <td>2.000000</td>\n",
       "      <td>1.000000</td>\n",
       "    </tr>\n",
       "  </tbody>\n",
       "</table>\n",
       "</div>"
      ],
      "text/plain": [
       "            cough         cold    diarrhea  sore_throat    body_pain  \\\n",
       "count  5005.00000  5005.000000  5005.00000  5005.000000  5005.000000   \n",
       "mean      0.50050     0.515485     0.50010     0.494306     0.492707   \n",
       "std       0.50005     0.499810     0.50005     0.500018     0.499997   \n",
       "min       0.00000     0.000000     0.00000     0.000000     0.000000   \n",
       "25%       0.00000     0.000000     0.00000     0.000000     0.000000   \n",
       "50%       1.00000     1.000000     1.00000     0.000000     0.000000   \n",
       "75%       1.00000     1.000000     1.00000     1.000000     1.000000   \n",
       "max       1.00000     1.000000     1.00000     1.000000     1.000000   \n",
       "\n",
       "          headache  temperature  difficult_breathing      fatigue  \\\n",
       "count  5005.000000  5005.000000          5005.000000  5005.000000   \n",
       "mean      0.491109     0.503497             0.989810     0.974625   \n",
       "std       0.499971     0.500038             1.000048     0.999778   \n",
       "min       0.000000     0.000000             0.000000     0.000000   \n",
       "25%       0.000000     0.000000             0.000000     0.000000   \n",
       "50%       0.000000     1.000000             0.000000     0.000000   \n",
       "75%       1.000000     1.000000             2.000000     2.000000   \n",
       "max       1.000000     1.000000             2.000000     2.000000   \n",
       "\n",
       "       travelled14  travel_covid  covid_contact          age  \\\n",
       "count  5005.000000   5005.000000    5005.000000  5005.000000   \n",
       "mean      1.512288      1.479920       1.512288     1.004995   \n",
       "std       1.500100      1.500015       1.500100     1.000087   \n",
       "min       0.000000      0.000000       0.000000     0.000000   \n",
       "25%       0.000000      0.000000       0.000000     0.000000   \n",
       "50%       3.000000      0.000000       3.000000     2.000000   \n",
       "75%       3.000000      3.000000       3.000000     2.000000   \n",
       "max       3.000000      3.000000       3.000000     2.000000   \n",
       "\n",
       "       infection_probability  \n",
       "count            5005.000000  \n",
       "mean                0.333467  \n",
       "std                 0.471499  \n",
       "min                 0.000000  \n",
       "25%                 0.000000  \n",
       "50%                 0.000000  \n",
       "75%                 1.000000  \n",
       "max                 1.000000  "
      ]
     },
     "execution_count": 50,
     "metadata": {},
     "output_type": "execute_result"
    }
   ],
   "source": [
    "df.describe()"
   ]
  },
  {
   "cell_type": "code",
   "execution_count": 51,
   "metadata": {},
   "outputs": [
    {
     "data": {
      "text/plain": [
       "cough                    0\n",
       "cold                     0\n",
       "diarrhea                 0\n",
       "sore_throat              0\n",
       "body_pain                0\n",
       "headache                 0\n",
       "temperature              0\n",
       "difficult_breathing      0\n",
       "fatigue                  0\n",
       "travelled14              0\n",
       "travel_covid             0\n",
       "covid_contact            0\n",
       "age                      0\n",
       "infection_probability    0\n",
       "dtype: int64"
      ]
     },
     "execution_count": 51,
     "metadata": {},
     "output_type": "execute_result"
    }
   ],
   "source": [
    "df.isna().sum()"
   ]
  },
  {
   "cell_type": "markdown",
   "metadata": {},
   "source": [
    "# Split the dataset into independent (X) and dependent (Y)"
   ]
  },
  {
   "cell_type": "code",
   "execution_count": 67,
   "metadata": {},
   "outputs": [],
   "source": [
    "X = df.iloc[:,:-1].values\n",
    "Y = df.iloc[:,-1].values"
   ]
  },
  {
   "cell_type": "markdown",
   "metadata": {},
   "source": [
    "# Spliting Dataset into training and testing samples"
   ]
  },
  {
   "cell_type": "code",
   "execution_count": 68,
   "metadata": {},
   "outputs": [],
   "source": [
    "from sklearn.model_selection import train_test_split\n",
    "\n",
    "X_train,X_test,Y_train,Y_test = train_test_split(X,Y,test_size=0.2,random_state=1)"
   ]
  },
  {
   "cell_type": "code",
   "execution_count": 69,
   "metadata": {},
   "outputs": [
    {
     "data": {
      "text/plain": [
       "array([[1, 0, 1, ..., 3, 0, 2],\n",
       "       [0, 1, 0, ..., 3, 3, 0],\n",
       "       [1, 0, 0, ..., 3, 3, 0],\n",
       "       ...,\n",
       "       [1, 1, 1, ..., 3, 3, 2],\n",
       "       [0, 0, 0, ..., 0, 3, 2],\n",
       "       [1, 0, 1, ..., 0, 0, 2]], dtype=int64)"
      ]
     },
     "execution_count": 69,
     "metadata": {},
     "output_type": "execute_result"
    }
   ],
   "source": [
    "X_train\n"
   ]
  },
  {
   "cell_type": "markdown",
   "metadata": {},
   "source": [
    "# Creating Models (Logistic , Decision , Random Forest )"
   ]
  },
  {
   "cell_type": "code",
   "execution_count": 70,
   "metadata": {},
   "outputs": [],
   "source": [
    "# Create a function for the models\n",
    "\n",
    "\n",
    "def models(X_train,Y_train):\n",
    "    \n",
    "    # Logistic Regression\n",
    "    \n",
    "    from sklearn.linear_model import LogisticRegression\n",
    "    log = LogisticRegression(random_state=0)\n",
    "    log.fit(X_train,Y_train)\n",
    "    \n",
    "    \n",
    "    # Decision Tree Classifier\n",
    "    \n",
    "    from sklearn.tree import DecisionTreeClassifier\n",
    "    tree = DecisionTreeClassifier(criterion = \"entropy\" , random_state=0)\n",
    "    tree.fit(X_train,Y_train)\n",
    "    \n",
    "    # Random Forest Classifier\n",
    "    \n",
    "    from sklearn.ensemble import RandomForestClassifier\n",
    "    forest = RandomForestClassifier(n_estimators = 10 , criterion = \"entropy\",random_state=0)\n",
    "    forest.fit(X_train,Y_train)\n",
    "    \n",
    "    # Print the models accuracy on the training data\n",
    "    \n",
    "    print('[0] Logistic Regression Training Accuracy : ',log.score(X_train,Y_train))\n",
    "    print('[1] Decision Tree Classifier Training Accuracy : ',tree.score(X_train,Y_train))\n",
    "    print('[2] Random Forest Classifier Training Accuracy : ',forest.score(X_train,Y_train))\n",
    "    \n",
    "    return log,tree,forest\n",
    "    \n",
    "    "
   ]
  },
  {
   "cell_type": "code",
   "execution_count": 71,
   "metadata": {},
   "outputs": [
    {
     "name": "stdout",
     "output_type": "stream",
     "text": [
      "[0] Logistic Regression Training Accuracy :  1.0\n",
      "[1] Decision Tree Classifier Training Accuracy :  1.0\n",
      "[2] Random Forest Classifier Training Accuracy :  0.9972527472527473\n"
     ]
    }
   ],
   "source": [
    "# Getting all the models\n",
    "\n",
    "model = models(X_train,Y_train)"
   ]
  },
  {
   "cell_type": "markdown",
   "metadata": {},
   "source": [
    "# Testing Model Accuracy by Confusion Matrix"
   ]
  },
  {
   "cell_type": "code",
   "execution_count": 72,
   "metadata": {},
   "outputs": [
    {
     "name": "stdout",
     "output_type": "stream",
     "text": [
      "Model  0\n",
      "[[670   0]\n",
      " [  0 331]]\n",
      "Testing Accuracy =   1.0\n",
      "\n",
      "Model  1\n",
      "[[630  40]\n",
      " [ 36 295]]\n",
      "Testing Accuracy =   0.9240759240759241\n",
      "\n",
      "Model  2\n",
      "[[646  24]\n",
      " [ 35 296]]\n",
      "Testing Accuracy =   0.9410589410589411\n",
      "\n"
     ]
    }
   ],
   "source": [
    "# Test model accuracy on test data on Confusion matrix\n",
    "\n",
    "from sklearn.metrics import confusion_matrix\n",
    "\n",
    "for i in range(len(model)):\n",
    "    print(\"Model \", i)\n",
    "    \n",
    "    cm = confusion_matrix(Y_test,model[i].predict(X_test))\n",
    "    # [[true_negative , false_postive] [false_negative,true_positive]]\n",
    "    TP = cm[1][1]\n",
    "    TN = cm[0][0]\n",
    "    FP = cm[0][1]\n",
    "    FN = cm[1][0]\n",
    "\n",
    "    print(cm)\n",
    "    print(\"Testing Accuracy =  \",(TP + TN)/(TP + TN + FN + FP))\n",
    "    print()\n",
    "\n"
   ]
  },
  {
   "cell_type": "markdown",
   "metadata": {},
   "source": [
    "# Testing accuracy by another method"
   ]
  },
  {
   "cell_type": "code",
   "execution_count": 73,
   "metadata": {},
   "outputs": [
    {
     "name": "stdout",
     "output_type": "stream",
     "text": [
      "Model  0\n",
      "              precision    recall  f1-score   support\n",
      "\n",
      "           0       1.00      1.00      1.00       670\n",
      "           1       1.00      1.00      1.00       331\n",
      "\n",
      "    accuracy                           1.00      1001\n",
      "   macro avg       1.00      1.00      1.00      1001\n",
      "weighted avg       1.00      1.00      1.00      1001\n",
      "\n",
      "1.0\n",
      "\n",
      "Model  1\n",
      "              precision    recall  f1-score   support\n",
      "\n",
      "           0       0.95      0.94      0.94       670\n",
      "           1       0.88      0.89      0.89       331\n",
      "\n",
      "    accuracy                           0.92      1001\n",
      "   macro avg       0.91      0.92      0.91      1001\n",
      "weighted avg       0.92      0.92      0.92      1001\n",
      "\n",
      "0.9240759240759241\n",
      "\n",
      "Model  2\n",
      "              precision    recall  f1-score   support\n",
      "\n",
      "           0       0.95      0.96      0.96       670\n",
      "           1       0.93      0.89      0.91       331\n",
      "\n",
      "    accuracy                           0.94      1001\n",
      "   macro avg       0.94      0.93      0.93      1001\n",
      "weighted avg       0.94      0.94      0.94      1001\n",
      "\n",
      "0.9410589410589411\n",
      "\n"
     ]
    }
   ],
   "source": [
    "# Show another way to get metrices of the models\n",
    "\n",
    "from sklearn.metrics import classification_report\n",
    "from sklearn.metrics import accuracy_score\n",
    "\n",
    "\n",
    "for i in range(len(model)):\n",
    "    print(\"Model \", i)\n",
    "    print(classification_report(Y_test,model[i].predict(X_test)))\n",
    "    print(accuracy_score(Y_test,model[i].predict(X_test)))\n",
    "    print()"
   ]
  },
  {
   "cell_type": "code",
   "execution_count": 60,
   "metadata": {},
   "outputs": [
    {
     "name": "stdout",
     "output_type": "stream",
     "text": [
      "[0 0 0 1 0 1 0 1 0 0 1 1 0 0 1 1 0 0 0 0 0 1 0 0 1 0 0 1 0 0 0 1 0 0 1 1 0\n",
      " 0 0 0 1 0 0 1 0 0 1 1 0 0 0 0 0 1 1 1 0 0 1 1 1 0 1 0 0 1 1 0 1 0 0 1 0 1\n",
      " 0 0 0 0 0 0 1 1 1 0 0 1 0 1 1 0 0 1 0 0 1 0 1 0 0]\n",
      "\n",
      "[0 0 0 1 0 1 0 1 0 0 1 1 0 0 1 1 0 0 0 0 0 1 0 0 1 0 0 1 0 0 0 1 0 0 1 1 0\n",
      " 0 0 0 1 0 0 1 0 0 1 1 0 0 0 0 0 1 1 1 0 0 1 1 1 0 1 0 0 1 1 0 1 0 0 1 0 1\n",
      " 0 0 0 0 0 0 1 1 1 0 0 1 0 1 1 0 0 1 0 0 1 0 1 0 0]\n"
     ]
    }
   ],
   "source": [
    "# Print the prediction of Random Forest Classifier Model\n",
    "\n",
    "pred = model[0].predict(X_test[1:100])\n",
    "print(pred)\n",
    "print()\n",
    "print(Y_test[1:100])"
   ]
  },
  {
   "cell_type": "markdown",
   "metadata": {},
   "source": [
    "# Saving Models ( Logistic Regression )"
   ]
  },
  {
   "cell_type": "code",
   "execution_count": 74,
   "metadata": {},
   "outputs": [],
   "source": [
    "def  SaveModel():\n",
    "    import pickle\n",
    "    with open(\"Coronavirus_logistic\",\"wb\") as f:\n",
    "        pickle.dump(model[0],f)"
   ]
  },
  {
   "cell_type": "code",
   "execution_count": 75,
   "metadata": {},
   "outputs": [],
   "source": [
    "SaveModel()"
   ]
  },
  {
   "cell_type": "code",
   "execution_count": 76,
   "metadata": {},
   "outputs": [
    {
     "name": "stdout",
     "output_type": "stream",
     "text": [
      "[0 0 0 1 0 1 0 1 0 0 1 1 0 0 1 1 0 0 0 0 0 1 0 0 1 0 0 1 0 0 0 1 0 0 1 1 0\n",
      " 0 0 0 1 0 0 1 0 0 1 1 0 0 0 0 0 1 1 1 0 0 1 1 1 0 1 0 0 1 1 0 1 0 0 1 0 1\n",
      " 0 0 0 0 0 0 1 1 1 0 0 1 0 1 1 0 0 1 0 0 1 0 1 0 0]\n",
      "\n",
      "[0 0 0 1 0 1 0 1 0 0 1 1 0 0 1 1 0 0 0 0 0 1 0 0 1 0 0 1 0 0 0 1 0 0 1 1 0\n",
      " 0 0 0 1 0 0 1 0 0 1 1 0 0 0 0 0 1 1 1 0 0 1 1 1 0 1 0 0 1 1 0 1 0 0 1 0 1\n",
      " 0 0 0 0 0 0 1 1 1 0 0 1 0 1 1 0 0 1 0 0 1 0 1 0 0]\n"
     ]
    }
   ],
   "source": [
    "import pickle\n",
    "with open(\"Coronavirus_logistic\",\"rb\") as f:\n",
    "    logisticRegression = pickle.load(f)\n",
    "\n",
    "pred = logisticRegression.predict(X_test[1:100])\n",
    "print(pred)\n",
    "print()\n",
    "print(Y_test[1:100])"
   ]
  },
  {
   "cell_type": "code",
   "execution_count": 78,
   "metadata": {},
   "outputs": [
    {
     "name": "stdout",
     "output_type": "stream",
     "text": [
      "[1]\n"
     ]
    }
   ],
   "source": [
    "model_inputs = [0,0,1,1,1,0,1,0,0,3,0,0,2]\n",
    "model_inputs1 = [0,1,0,0,0,1,0,0,2,3,3,3,2]\n",
    "\n",
    "\n",
    "pred = logisticRegression.predict([model_inputs1])\n",
    "print(pred)"
   ]
  },
  {
   "cell_type": "code",
   "execution_count": null,
   "metadata": {},
   "outputs": [],
   "source": []
  }
 ],
 "metadata": {
  "kernelspec": {
   "display_name": "Python 3.6.10 64-bit ('impulse': conda)",
   "language": "python",
   "name": "python361064bitimpulseconda94fb25b4b1284e098fd55db75e1bbfbd"
  },
  "language_info": {
   "codemirror_mode": {
    "name": "ipython",
    "version": 3
   },
   "file_extension": ".py",
   "mimetype": "text/x-python",
   "name": "python",
   "nbconvert_exporter": "python",
   "pygments_lexer": "ipython3",
   "version": "3.6.10"
  }
 },
 "nbformat": 4,
 "nbformat_minor": 4
}
