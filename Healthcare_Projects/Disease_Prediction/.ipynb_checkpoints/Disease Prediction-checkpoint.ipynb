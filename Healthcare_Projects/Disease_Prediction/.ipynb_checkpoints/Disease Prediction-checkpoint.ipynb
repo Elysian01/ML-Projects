{
 "cells": [
  {
   "cell_type": "code",
   "execution_count": 1,
   "metadata": {},
   "outputs": [
    {
     "name": "stderr",
     "output_type": "stream",
     "text": [
      "C:\\Users\\abhis\\AppData\\Roaming\\Python\\Python37\\site-packages\\ipykernel_launcher.py:3: DeprecationWarning: numpy.core.umath_tests is an internal NumPy module and should not be imported. It will be removed in a future NumPy release.\n",
      "  This is separate from the ipykernel package so we can avoid doing imports until\n",
      "D:\\Setups\\Anaconda\\Setup\\lib\\site-packages\\sklearn\\externals\\joblib\\__init__.py:15: FutureWarning: sklearn.externals.joblib is deprecated in 0.21 and will be removed in 0.23. Please import this functionality directly from joblib, which can be installed with: pip install joblib. If this warning is raised when loading pickled models, you may need to re-serialize those models with scikit-learn 0.21+.\n",
      "  warnings.warn(msg, category=FutureWarning)\n"
     ]
    }
   ],
   "source": [
    "#import all packages and modules\n",
    "import numpy as np\n",
    "from numpy.core.umath_tests import inner1d\n",
    "import pandas as pd\n",
    "import matplotlib.pyplot as plt\n",
    "from sklearn.ensemble import RandomForestClassifier\n",
    "from sklearn.model_selection import train_test_split\n",
    "from sklearn.metrics import accuracy_score,confusion_matrix,classification_report\n",
    "from sklearn.preprocessing import LabelEncoder,StandardScaler\n",
    "from sklearn.externals import joblib\n",
    "#importing nltk \n",
    "import nltk\n",
    "from nltk.corpus import stopwords\n",
    "from nltk.stem.porter import PorterStemmer\n",
    "import re\n",
    "#for bag_of_words model\n",
    "from sklearn.feature_extraction.text import CountVectorizer"
   ]
  },
  {
   "cell_type": "code",
   "execution_count": 2,
   "metadata": {},
   "outputs": [],
   "source": [
    "#loading dataset\n",
    "data = pd.read_csv(\"Disease_symptoms.csv\")"
   ]
  },
  {
   "cell_type": "code",
   "execution_count": 3,
   "metadata": {},
   "outputs": [
    {
     "name": "stdout",
     "output_type": "stream",
     "text": [
      "<class 'pandas.core.frame.DataFrame'>\n",
      "RangeIndex: 242 entries, 0 to 241\n",
      "Data columns (total 57 columns):\n",
      " #   Column                 Non-Null Count  Dtype \n",
      "---  ------                 --------------  ----- \n",
      " 0   Disease                242 non-null    object\n",
      " 1   bloody_stools          242 non-null    int64 \n",
      " 2   fecal_leakage          242 non-null    int64 \n",
      " 3   swelling               242 non-null    int64 \n",
      " 4   dizziness              242 non-null    int64 \n",
      " 5   confusion              242 non-null    int64 \n",
      " 6   fatigue                242 non-null    int64 \n",
      " 7   itching                242 non-null    int64 \n",
      " 8   vomiting               242 non-null    int64 \n",
      " 9   arm_pain               242 non-null    int64 \n",
      " 10  cough                  242 non-null    int64 \n",
      " 11  muscle_pain            242 non-null    int64 \n",
      " 12  depression             242 non-null    int64 \n",
      " 13  fever                  242 non-null    int64 \n",
      " 14  painful_bowel_moments  242 non-null    int64 \n",
      " 15  urine_blood            242 non-null    int64 \n",
      " 16  sweating               242 non-null    int64 \n",
      " 17  nausea                 242 non-null    int64 \n",
      " 18  stiff_neck             242 non-null    int64 \n",
      " 19  decreased_appetite     242 non-null    int64 \n",
      " 20  weak                   242 non-null    int64 \n",
      " 21  wheezing               242 non-null    int64 \n",
      " 22  bleeding               242 non-null    int64 \n",
      " 23  hives                  242 non-null    int64 \n",
      " 24  bleed                  242 non-null    int64 \n",
      " 25  headache               242 non-null    int64 \n",
      " 26  dry_mouth              242 non-null    int64 \n",
      " 27  sweat                  242 non-null    int64 \n",
      " 28  stomach_pain           242 non-null    int64 \n",
      " 29  stool_pressure         242 non-null    int64 \n",
      " 30  anxiety                242 non-null    int64 \n",
      " 31  shoulder_pain          242 non-null    int64 \n",
      " 32  anus_itching           242 non-null    int64 \n",
      " 33  vision_problem         242 non-null    int64 \n",
      " 34  abdominal_pain         242 non-null    int64 \n",
      " 35  chest_pain             242 non-null    int64 \n",
      " 36  weight_loss            242 non-null    int64 \n",
      " 37  diarrhea               242 non-null    int64 \n",
      " 38  breath_problems        242 non-null    int64 \n",
      " 39  thirsty                242 non-null    int64 \n",
      " 40  anus_swelling          242 non-null    int64 \n",
      " 41  blood_o_tissue         242 non-null    int64 \n",
      " 42  constipation           242 non-null    int64 \n",
      " 43  neck_pain              242 non-null    int64 \n",
      " 44  low_heartbeat          242 non-null    int64 \n",
      " 45  more_urine             242 non-null    int64 \n",
      " 46  low_breath             242 non-null    int64 \n",
      " 47  muscle_cramps          242 non-null    int64 \n",
      " 48  muscle_spasm           242 non-null    int64 \n",
      " 49  yawning                242 non-null    int64 \n",
      " 50  rash                   242 non-null    int64 \n",
      " 51  back_pain              242 non-null    int64 \n",
      " 52  anal_bleeding          242 non-null    int64 \n",
      " 53  lump_anus              242 non-null    int64 \n",
      " 54  cold                   242 non-null    int64 \n",
      " 55  skin_rash              242 non-null    int64 \n",
      " 56  neck_stiff             242 non-null    int64 \n",
      "dtypes: int64(56), object(1)\n",
      "memory usage: 107.9+ KB\n"
     ]
    }
   ],
   "source": [
    "data.info()"
   ]
  },
  {
   "cell_type": "code",
   "execution_count": 179,
   "metadata": {},
   "outputs": [
    {
     "data": {
      "text/plain": [
       "array(['Fungal infection', 'Allergy', 'GERD', 'Chronic cholestasis',\n",
       "       'Drug Reaction', 'Peptic ulcer diseae', 'AIDS', 'Diabetes ',\n",
       "       'Gastroenteritis', 'Bronchial Asthma', 'Hypertension ', 'Migraine',\n",
       "       'Cervical spondylosis', 'Paralysis (brain hemorrhage)', 'Jaundice',\n",
       "       'Malaria', 'Chicken pox', 'Dengue', 'Typhoid', 'hepatitis A',\n",
       "       'Hepatitis B', 'Hepatitis C', 'Hepatitis D', 'Hepatitis E',\n",
       "       'Alcoholic hepatitis', 'Tuberculosis', 'Common Cold', 'Pneumonia',\n",
       "       'Dimorphic hemmorhoids(piles)', 'Heart attack', 'Varicose veins',\n",
       "       'Hypothyroidism', 'Hyperthyroidism', 'Hypoglycemia',\n",
       "       'Osteoarthristis', 'Arthritis',\n",
       "       '(vertigo) Paroymsal  Positional Vertigo', 'Acne',\n",
       "       'Urinary tract infection', 'Psoriasis', 'Impetigo'], dtype=object)"
      ]
     },
     "execution_count": 179,
     "metadata": {},
     "output_type": "execute_result"
    }
   ],
   "source": [
    "y = data['prognosis'].values\n",
    "np.ravel(y)"
   ]
  },
  {
   "cell_type": "code",
   "execution_count": 180,
   "metadata": {},
   "outputs": [
    {
     "data": {
      "text/plain": [
       "array(['itching', 'skin_rash', 'nodal_skin_eruptions',\n",
       "       'continuous_sneezing', 'shivering', 'chills', 'joint_pain',\n",
       "       'stomach_pain', 'acidity', 'ulcers_on_tongue', 'muscle_wasting',\n",
       "       'vomiting', 'burning_micturition', 'spotting_ urination',\n",
       "       'fatigue', 'weight_gain', 'anxiety', 'cold_hands_and_feets',\n",
       "       'mood_swings', 'weight_loss', 'restlessness', 'lethargy',\n",
       "       'patches_in_throat', 'irregular_sugar_level', 'cough',\n",
       "       'high_fever', 'sunken_eyes', 'breathlessness', 'sweating',\n",
       "       'dehydration', 'indigestion', 'headache', 'yellowish_skin',\n",
       "       'dark_urine', 'nausea', 'loss_of_appetite', 'pain_behind_the_eyes',\n",
       "       'back_pain', 'constipation', 'abdominal_pain', 'diarrhoea',\n",
       "       'mild_fever', 'yellow_urine', 'yellowing_of_eyes',\n",
       "       'acute_liver_failure', 'fluid_overload', 'swelling_of_stomach',\n",
       "       'swelled_lymph_nodes', 'malaise', 'blurred_and_distorted_vision',\n",
       "       'phlegm', 'throat_irritation', 'redness_of_eyes', 'sinus_pressure',\n",
       "       'runny_nose', 'congestion', 'chest_pain', 'weakness_in_limbs',\n",
       "       'fast_heart_rate', 'pain_during_bowel_movements',\n",
       "       'pain_in_anal_region', 'bloody_stool', 'irritation_in_anus',\n",
       "       'neck_pain', 'dizziness', 'cramps', 'bruising', 'obesity',\n",
       "       'swollen_legs', 'swollen_blood_vessels', 'puffy_face_and_eyes',\n",
       "       'enlarged_thyroid', 'brittle_nails', 'swollen_extremeties',\n",
       "       'excessive_hunger', 'extra_marital_contacts',\n",
       "       'drying_and_tingling_lips', 'slurred_speech', 'knee_pain',\n",
       "       'hip_joint_pain', 'muscle_weakness', 'stiff_neck',\n",
       "       'swelling_joints', 'movement_stiffness', 'spinning_movements',\n",
       "       'loss_of_balance', 'unsteadiness', 'weakness_of_one_body_side',\n",
       "       'loss_of_smell', 'bladder_discomfort', 'foul_smell_of urine',\n",
       "       'continuous_feel_of_urine', 'passage_of_gases', 'internal_itching',\n",
       "       'toxic_look_(typhos)', 'depression', 'irritability', 'muscle_pain',\n",
       "       'altered_sensorium', 'red_spots_over_body', 'belly_pain',\n",
       "       'abnormal_menstruation', 'dischromic _patches',\n",
       "       'watering_from_eyes', 'increased_appetite', 'polyuria',\n",
       "       'family_history', 'mucoid_sputum', 'rusty_sputum',\n",
       "       'lack_of_concentration', 'visual_disturbances',\n",
       "       'receiving_blood_transfusion', 'receiving_unsterile_injections',\n",
       "       'coma', 'stomach_bleeding', 'distention_of_abdomen',\n",
       "       'history_of_alcohol_consumption', 'fluid_overload.1',\n",
       "       'blood_in_sputum', 'prominent_veins_on_calf', 'palpitations',\n",
       "       'painful_walking', 'pus_filled_pimples', 'blackheads', 'scurring',\n",
       "       'skin_peeling', 'silver_like_dusting', 'small_dents_in_nails',\n",
       "       'inflammatory_nails', 'blister', 'red_sore_around_nose',\n",
       "       'yellow_crust_ooze'], dtype=object)"
      ]
     },
     "execution_count": 180,
     "metadata": {},
     "output_type": "execute_result"
    }
   ],
   "source": [
    "X = data.columns.values\n",
    "X= np.delete(X,-1)\n",
    "X"
   ]
  },
  {
   "cell_type": "code",
   "execution_count": 181,
   "metadata": {},
   "outputs": [
    {
     "data": {
      "text/plain": [
       "array([[15,  4, 16,  9, 14, 33,  1, 12, 17,  6, 23, 30,  7, 32, 28, 29,\n",
       "         8, 11, 37, 40, 19, 20, 21, 22,  3, 36, 10, 34, 13, 18, 39, 26,\n",
       "        24, 25, 31,  5,  0,  2, 38, 35, 27]])"
      ]
     },
     "execution_count": 181,
     "metadata": {},
     "output_type": "execute_result"
    }
   ],
   "source": [
    "le = LabelEncoder()\n",
    "X1 = le.fit_transform(X)\n",
    "Y1 = le.fit_transform(y)\n",
    "X1 = X1.reshape(1,-1)\n",
    "Y1 = Y1.reshape(1,-1)\n",
    "Y1"
   ]
  },
  {
   "cell_type": "code",
   "execution_count": 182,
   "metadata": {},
   "outputs": [],
   "source": [
    "#X_train, X_test, Y_train, Y_test = train_test_split(X,Y,test_size = 0.2,random_state =0)"
   ]
  },
  {
   "cell_type": "code",
   "execution_count": 183,
   "metadata": {},
   "outputs": [],
   "source": [
    "#sc = StandardScaler()\n",
    "#X_train = sc.transform(X_train)\n",
    "#X_test = sc.transform(X_test)"
   ]
  },
  {
   "cell_type": "code",
   "execution_count": 184,
   "metadata": {},
   "outputs": [],
   "source": [
    "l2=[]\n",
    "for x in range(0,len(X)):\n",
    "    l2.append(0)"
   ]
  },
  {
   "cell_type": "markdown",
   "metadata": {},
   "source": [
    "Random Forest CLassifier"
   ]
  },
  {
   "cell_type": "code",
   "execution_count": 185,
   "metadata": {},
   "outputs": [
    {
     "data": {
      "text/plain": [
       "RandomForestClassifier(bootstrap=True, class_weight=None, criterion='gini',\n",
       "            max_depth=None, max_features='auto', max_leaf_nodes=None,\n",
       "            min_impurity_decrease=0.0, min_impurity_split=None,\n",
       "            min_samples_leaf=1, min_samples_split=2,\n",
       "            min_weight_fraction_leaf=0.0, n_estimators=10, n_jobs=1,\n",
       "            oob_score=False, random_state=None, verbose=0,\n",
       "            warm_start=False)"
      ]
     },
     "execution_count": 185,
     "metadata": {},
     "output_type": "execute_result"
    }
   ],
   "source": [
    "rfc = RandomForestClassifier(n_estimators = 10)\n",
    "rfc.fit(X1,Y1)"
   ]
  },
  {
   "cell_type": "code",
   "execution_count": 186,
   "metadata": {},
   "outputs": [],
   "source": [
    "psymptoms = ['loss_of_balance','visual_disturbances','depression','chest_pain']"
   ]
  },
  {
   "cell_type": "code",
   "execution_count": 187,
   "metadata": {},
   "outputs": [],
   "source": [
    "for i in range(len(X)):\n",
    "    for z in psymptoms:\n",
    "        if(z == X[i]):\n",
    "            l2[i] = 1"
   ]
  },
  {
   "cell_type": "code",
   "execution_count": 197,
   "metadata": {},
   "outputs": [
    {
     "name": "stdout",
     "output_type": "stream",
     "text": [
      "<class 'numpy.float64'>\n"
     ]
    }
   ],
   "source": [
    "inputtest = [l2]\n",
    "predictY = rfc.predict(inputtest)\n",
    "print(type(predictY[0][0]))\n",
    "predicted=predictY[0]"
   ]
  },
  {
   "cell_type": "code",
   "execution_count": 189,
   "metadata": {},
   "outputs": [
    {
     "data": {
      "text/plain": [
       "array([15,  4, 16,  9, 14, 33,  1, 12, 17,  6, 23, 30,  7, 32, 28, 29,  8,\n",
       "       11, 37, 40, 19, 20, 21, 22,  3, 36, 10, 34, 13, 18, 39, 26, 24, 25,\n",
       "       31,  5,  0,  2, 38, 35, 27])"
      ]
     },
     "execution_count": 189,
     "metadata": {},
     "output_type": "execute_result"
    }
   ],
   "source": [
    "predicted = predicted.astype(int)\n",
    "predicted"
   ]
  },
  {
   "cell_type": "code",
   "execution_count": 190,
   "metadata": {},
   "outputs": [
    {
     "data": {
      "text/plain": [
       "array([[15,  4, 16,  9, 14, 33,  1, 12, 17,  6, 23, 30,  7, 32, 28, 29,\n",
       "         8, 11, 37, 40, 19, 20, 21, 22,  3, 36, 10, 34, 13, 18, 39, 26,\n",
       "        24, 25, 31,  5,  0,  2, 38, 35, 27]])"
      ]
     },
     "execution_count": 190,
     "metadata": {},
     "output_type": "execute_result"
    }
   ],
   "source": [
    "Y1"
   ]
  },
  {
   "cell_type": "code",
   "execution_count": 191,
   "metadata": {},
   "outputs": [
    {
     "ename": "ValueError",
     "evalue": "The truth value of an array with more than one element is ambiguous. Use a.any() or a.all()",
     "output_type": "error",
     "traceback": [
      "\u001b[0;31m---------------------------------------------------------------------------\u001b[0m",
      "\u001b[0;31mValueError\u001b[0m                                Traceback (most recent call last)",
      "\u001b[0;32m<ipython-input-191-bdfd9aa448e6>\u001b[0m in \u001b[0;36m<module>\u001b[0;34m()\u001b[0m\n\u001b[1;32m      1\u001b[0m \u001b[0mh\u001b[0m\u001b[0;34m=\u001b[0m\u001b[0;34m'no'\u001b[0m\u001b[0;34m\u001b[0m\u001b[0;34m\u001b[0m\u001b[0m\n\u001b[1;32m      2\u001b[0m \u001b[0;32mfor\u001b[0m \u001b[0ma\u001b[0m \u001b[0;32min\u001b[0m \u001b[0mrange\u001b[0m\u001b[0;34m(\u001b[0m\u001b[0;36m0\u001b[0m\u001b[0;34m,\u001b[0m\u001b[0mlen\u001b[0m\u001b[0;34m(\u001b[0m\u001b[0mY1\u001b[0m\u001b[0;34m)\u001b[0m\u001b[0;34m)\u001b[0m\u001b[0;34m:\u001b[0m\u001b[0;34m\u001b[0m\u001b[0;34m\u001b[0m\u001b[0m\n\u001b[0;32m----> 3\u001b[0;31m     \u001b[0;32mif\u001b[0m\u001b[0;34m(\u001b[0m\u001b[0mpredicted\u001b[0m \u001b[0;34m==\u001b[0m \u001b[0mY1\u001b[0m\u001b[0;34m[\u001b[0m\u001b[0;36m0\u001b[0m\u001b[0;34m]\u001b[0m\u001b[0;34m)\u001b[0m\u001b[0;34m:\u001b[0m\u001b[0;34m\u001b[0m\u001b[0;34m\u001b[0m\u001b[0m\n\u001b[0m\u001b[1;32m      4\u001b[0m         \u001b[0mh\u001b[0m\u001b[0;34m=\u001b[0m\u001b[0;34m'yes'\u001b[0m\u001b[0;34m\u001b[0m\u001b[0;34m\u001b[0m\u001b[0m\n\u001b[1;32m      5\u001b[0m         \u001b[0mj\u001b[0m\u001b[0;34m=\u001b[0m\u001b[0ma\u001b[0m\u001b[0;34m\u001b[0m\u001b[0;34m\u001b[0m\u001b[0m\n",
      "\u001b[0;31mValueError\u001b[0m: The truth value of an array with more than one element is ambiguous. Use a.any() or a.all()"
     ]
    }
   ],
   "source": [
    "h='no'\n",
    "for a in range(0,len(Y1)):\n",
    "    if(predicted == Y1[0]):\n",
    "        h='yes'\n",
    "        j=a\n",
    "        break\n",
    "if (h=='yes'):\n",
    "    print(Y1[j])\n",
    "    print(Y1[0][j])\n",
    "else:\n",
    "    print(\"Not found\")"
   ]
  },
  {
   "cell_type": "code",
   "execution_count": null,
   "metadata": {},
   "outputs": [],
   "source": [
    "h = 'no'\n",
    "for i in Y1[0]:\n",
    "    print(i)\n",
    "    "
   ]
  },
  {
   "cell_type": "code",
   "execution_count": null,
   "metadata": {},
   "outputs": [],
   "source": []
  }
 ],
 "metadata": {
  "kernelspec": {
   "display_name": "Python 3",
   "language": "python",
   "name": "python3"
  },
  "language_info": {
   "codemirror_mode": {
    "name": "ipython",
    "version": 3
   },
   "file_extension": ".py",
   "mimetype": "text/x-python",
   "name": "python",
   "nbconvert_exporter": "python",
   "pygments_lexer": "ipython3",
   "version": "3.7.4"
  }
 },
 "nbformat": 4,
 "nbformat_minor": 4
}
