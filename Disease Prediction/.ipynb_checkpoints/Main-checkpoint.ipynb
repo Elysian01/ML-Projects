{
 "cells": [
  {
   "cell_type": "code",
   "execution_count": 150,
   "metadata": {},
   "outputs": [],
   "source": [
    "import numpy as np\n",
    "import pandas as pd"
   ]
  },
  {
   "cell_type": "code",
   "execution_count": 151,
   "metadata": {},
   "outputs": [
    {
     "data": {
      "text/plain": [
       "['Alcoholic_hepatitis',\n",
       " 'Cervical_spondylosis',\n",
       " 'Dengue',\n",
       " 'Dimorphic_hemmorhoids',\n",
       " 'Drug_Reaction',\n",
       " 'Heart_Attack',\n",
       " 'Hypertension',\n",
       " 'Malaria',\n",
       " 'Migraine',\n",
       " 'Paralysis',\n",
       " 'Pneumonia']"
      ]
     },
     "execution_count": 151,
     "metadata": {},
     "output_type": "execute_result"
    }
   ],
   "source": [
    "df =pd.read_csv(\"Disease_Symptoms.csv\")\n",
    "disease = set(df.iloc[:,0])\n",
    "disease = list(disease)\n",
    "disease.sort()\n",
    "disease"
   ]
  },
  {
   "cell_type": "markdown",
   "metadata": {},
   "source": [
    "# Data Preprocessing (Label enconding)"
   ]
  },
  {
   "cell_type": "code",
   "execution_count": 152,
   "metadata": {},
   "outputs": [
    {
     "data": {
      "text/plain": [
       "(5324, 57)"
      ]
     },
     "execution_count": 152,
     "metadata": {},
     "output_type": "execute_result"
    }
   ],
   "source": [
    "from sklearn.preprocessing import LabelEncoder\n",
    "labelencoder_Y = LabelEncoder()\n",
    "df.iloc[:,0] = labelencoder_Y.fit_transform(df.iloc[:,0].values)\n",
    "\n",
    "with open(\"Coded.csv\",\"w\") as f:\n",
    "    df.to_csv(f,line_terminator = \"\\n\", encoding = \"ISO-8859-1\")\n",
    "df.dtypes\n",
    "df.shape"
   ]
  },
  {
   "cell_type": "code",
   "execution_count": 153,
   "metadata": {},
   "outputs": [],
   "source": [
    "# print(df.head())"
   ]
  },
  {
   "cell_type": "markdown",
   "metadata": {},
   "source": [
    "# Split the dataset into independent (X) and dependent (Y)"
   ]
  },
  {
   "cell_type": "code",
   "execution_count": 154,
   "metadata": {},
   "outputs": [
    {
     "name": "stdout",
     "output_type": "stream",
     "text": [
      "(5324, 56)\n",
      "(5324,)\n"
     ]
    },
    {
     "data": {
      "text/plain": [
       "dtype('int64')"
      ]
     },
     "execution_count": 154,
     "metadata": {},
     "output_type": "execute_result"
    }
   ],
   "source": [
    "X = df.iloc[:,1:58].values\n",
    "Y =df.iloc[:,0].values\n",
    "print(X.shape)\n",
    "print(Y.shape)\n",
    "X.dtype"
   ]
  },
  {
   "cell_type": "markdown",
   "metadata": {},
   "source": [
    "# Spliting Dataset into training and testing samples"
   ]
  },
  {
   "cell_type": "code",
   "execution_count": 155,
   "metadata": {},
   "outputs": [
    {
     "data": {
      "text/plain": [
       "array([[0, 0, 0, ..., 0, 0, 0],\n",
       "       [0, 0, 0, ..., 0, 1, 0],\n",
       "       [0, 0, 0, ..., 0, 0, 0],\n",
       "       ...,\n",
       "       [0, 0, 0, ..., 0, 0, 0],\n",
       "       [0, 1, 0, ..., 0, 0, 0],\n",
       "       [0, 0, 0, ..., 0, 0, 0]], dtype=int64)"
      ]
     },
     "execution_count": 155,
     "metadata": {},
     "output_type": "execute_result"
    }
   ],
   "source": [
    "# Split the dataset into 80% training and 20% testing\n",
    "\n",
    "from sklearn.model_selection import train_test_split\n",
    "X_train,X_test,Y_train,Y_test = train_test_split(X,Y,test_size=0.20,random_state = 0)\n",
    "X_test"
   ]
  },
  {
   "cell_type": "markdown",
   "metadata": {},
   "source": [
    "# Creating Models ( Decision Tree , Random Forest )"
   ]
  },
  {
   "cell_type": "code",
   "execution_count": 156,
   "metadata": {},
   "outputs": [],
   "source": [
    "# Create a function for the models\n",
    "\n",
    "\n",
    "def models(X_train,Y_train):\n",
    "    \n",
    "    # Decision Tree Classifier\n",
    "    \n",
    "    from sklearn.tree import DecisionTreeClassifier\n",
    "    tree = DecisionTreeClassifier(criterion = \"entropy\" , random_state=0)\n",
    "    tree.fit(X_train,Y_train)\n",
    "    \n",
    "    # Random Forest Classifier\n",
    "    \n",
    "    from sklearn.ensemble import RandomForestClassifier\n",
    "    forest = RandomForestClassifier(n_estimators = 10 , criterion = \"entropy\",random_state=0)\n",
    "    forest.fit(X_train,Y_train)\n",
    "    \n",
    "    # Print the models accuracy on the training data\n",
    "    \n",
    "    print('[0] Decision Tree Classifier Training Accuracy : ',tree.score(X_train,Y_train))\n",
    "    print('[1] Random Forest Classifier Training Accuracy : ',forest.score(X_train,Y_train))\n",
    "    \n",
    "    return tree,forest\n",
    "    \n",
    "    "
   ]
  },
  {
   "cell_type": "code",
   "execution_count": 157,
   "metadata": {},
   "outputs": [
    {
     "name": "stdout",
     "output_type": "stream",
     "text": [
      "[0] Decision Tree Classifier Training Accuracy :  1.0\n",
      "[1] Random Forest Classifier Training Accuracy :  1.0\n"
     ]
    }
   ],
   "source": [
    "# Getting all the models\n",
    "\n",
    "model = models(X_train,Y_train)"
   ]
  },
  {
   "cell_type": "markdown",
   "metadata": {},
   "source": [
    "# Testing Model Accuracy by Confusion Matrix"
   ]
  },
  {
   "cell_type": "code",
   "execution_count": 158,
   "metadata": {},
   "outputs": [
    {
     "name": "stdout",
     "output_type": "stream",
     "text": [
      "Model  0\n",
      "[[ 93   0   0   0   0   0   0   0   0   0   0]\n",
      " [  0  85   0   0   0   0   0   0   0   0   0]\n",
      " [  0   0 101   0   0   0   0   0   0   0   0]\n",
      " [  0   0   0  90   0   0   0   0   0   0   0]\n",
      " [  0   0   0   0  87   0   0   0   0   0   0]\n",
      " [  0   0   0   0   0 107   0   0   0   0   0]\n",
      " [  0   0   0   0   0   0  89   0   0   0   0]\n",
      " [  0   0   0   0   0   0   0  99   0   0   0]\n",
      " [  0   0   0   0   0   0   0   0  91   0   0]\n",
      " [  0   0   0   0   0   0   0   0   0 122   0]\n",
      " [  0   0   0   0   0   0   0   0   0   0 101]]\n",
      "Testing Accuracy =   1.0\n",
      "\n",
      "Model  1\n",
      "[[ 93   0   0   0   0   0   0   0   0   0   0]\n",
      " [  0  85   0   0   0   0   0   0   0   0   0]\n",
      " [  0   0 101   0   0   0   0   0   0   0   0]\n",
      " [  0   0   0  90   0   0   0   0   0   0   0]\n",
      " [  0   0   0   0  87   0   0   0   0   0   0]\n",
      " [  0   0   0   0   0 107   0   0   0   0   0]\n",
      " [  0   0   0   0   0   0  89   0   0   0   0]\n",
      " [  0   0   0   0   0   0   0  99   0   0   0]\n",
      " [  0   0   0   0   0   0   0   0  91   0   0]\n",
      " [  0   0   0   0   0   0   0   0   0 122   0]\n",
      " [  0   0   0   0   0   0   0   0   0   0 101]]\n",
      "Testing Accuracy =   1.0\n",
      "\n"
     ]
    }
   ],
   "source": [
    "# Test model accuracy on test data on Confusion matrix\n",
    "\n",
    "from sklearn.metrics import confusion_matrix\n",
    "\n",
    "for i in range(len(model)):\n",
    "    print(\"Model \", i)\n",
    "    \n",
    "    cm = confusion_matrix(Y_test,model[i].predict(X_test))\n",
    "    # [[true_negative , false_postive] [false_negative,true_positive]]\n",
    "    TP = cm[1][1]\n",
    "    TN = cm[0][0]\n",
    "    FP = cm[0][1]\n",
    "    FN = cm[1][0]\n",
    "\n",
    "    print(cm)\n",
    "    print(\"Testing Accuracy =  \",(TP + TN)/(TP + TN + FN + FP))\n",
    "    print()\n"
   ]
  },
  {
   "cell_type": "markdown",
   "metadata": {},
   "source": [
    "# Testing accuracy by another method\n"
   ]
  },
  {
   "cell_type": "code",
   "execution_count": 159,
   "metadata": {},
   "outputs": [
    {
     "name": "stdout",
     "output_type": "stream",
     "text": [
      "Model  0\n",
      "              precision    recall  f1-score   support\n",
      "\n",
      "           0       1.00      1.00      1.00        93\n",
      "           1       1.00      1.00      1.00        85\n",
      "           2       1.00      1.00      1.00       101\n",
      "           3       1.00      1.00      1.00        90\n",
      "           4       1.00      1.00      1.00        87\n",
      "           5       1.00      1.00      1.00       107\n",
      "           6       1.00      1.00      1.00        89\n",
      "           7       1.00      1.00      1.00        99\n",
      "           8       1.00      1.00      1.00        91\n",
      "           9       1.00      1.00      1.00       122\n",
      "          10       1.00      1.00      1.00       101\n",
      "\n",
      "    accuracy                           1.00      1065\n",
      "   macro avg       1.00      1.00      1.00      1065\n",
      "weighted avg       1.00      1.00      1.00      1065\n",
      "\n",
      "1.0\n",
      "\n",
      "Model  1\n",
      "              precision    recall  f1-score   support\n",
      "\n",
      "           0       1.00      1.00      1.00        93\n",
      "           1       1.00      1.00      1.00        85\n",
      "           2       1.00      1.00      1.00       101\n",
      "           3       1.00      1.00      1.00        90\n",
      "           4       1.00      1.00      1.00        87\n",
      "           5       1.00      1.00      1.00       107\n",
      "           6       1.00      1.00      1.00        89\n",
      "           7       1.00      1.00      1.00        99\n",
      "           8       1.00      1.00      1.00        91\n",
      "           9       1.00      1.00      1.00       122\n",
      "          10       1.00      1.00      1.00       101\n",
      "\n",
      "    accuracy                           1.00      1065\n",
      "   macro avg       1.00      1.00      1.00      1065\n",
      "weighted avg       1.00      1.00      1.00      1065\n",
      "\n",
      "1.0\n",
      "\n"
     ]
    }
   ],
   "source": [
    "# Show another way to get metrices of the models\n",
    "\n",
    "from sklearn.metrics import classification_report\n",
    "from sklearn.metrics import accuracy_score\n",
    "\n",
    "\n",
    "for i in range(len(model)):\n",
    "    print(\"Model \", i)\n",
    "    print(classification_report(Y_test,model[i].predict(X_test)))\n",
    "    print(accuracy_score(Y_test,model[i].predict(X_test)))\n",
    "    print()"
   ]
  },
  {
   "cell_type": "code",
   "execution_count": 160,
   "metadata": {},
   "outputs": [
    {
     "data": {
      "text/plain": [
       "(1065, 56)"
      ]
     },
     "execution_count": 160,
     "metadata": {},
     "output_type": "execute_result"
    }
   ],
   "source": [
    "X_test.shape"
   ]
  },
  {
   "cell_type": "markdown",
   "metadata": {},
   "source": [
    "# Testing the model against incoming input"
   ]
  },
  {
   "cell_type": "code",
   "execution_count": 161,
   "metadata": {},
   "outputs": [
    {
     "data": {
      "text/plain": [
       "56"
      ]
     },
     "execution_count": 161,
     "metadata": {},
     "output_type": "execute_result"
    }
   ],
   "source": [
    "header = ['bloody_stools','fecal_leakage','swelling','dizziness','confusion','fatigue','itching','vomiting','arm_pain',\n",
    "          'cough','muscle_pain','depression','fever','painful_bowel_moments','urine_blood','sweating','nausea',\n",
    "          'stiff_neck','decreased_appetite','weak','wheezing','bleeding','hives','bleed','headache','dry_mouth','sweat',\n",
    "          'stomach_pain','stool_pressure','anxiety','shoulder_pain','anus_itching','vision_problem','abdominal_pain',\n",
    "          'chest_pain','weight_loss','diarrhea','breath_problems','thirsty','anus_swelling','blood_o_tissue','constipation',\n",
    "          'neck_pain','low_heartbeat','more_urine','low_breath','muscle_cramps','muscle_spasm','yawning','rash','back_pain',\n",
    "          'anal_bleeding','lump_anus','cold','skin_rash','neck_stiff']\n",
    "len(header)\n",
    "# header"
   ]
  },
  {
   "cell_type": "code",
   "execution_count": 193,
   "metadata": {},
   "outputs": [],
   "source": [
    "model_inputs=[]\n",
    "for x in range(0,len(header)):\n",
    "    model_inputs.append(0)"
   ]
  },
  {
   "cell_type": "code",
   "execution_count": 194,
   "metadata": {},
   "outputs": [],
   "source": [
    "inputs = ['anus_itching','anus_swelling',\n",
    "                              'blood_on_tissue','stool_pressure','lump_anus']\n",
    "\n",
    "for element in range(0,len(header)):\n",
    "    for symptoms in inputs:\n",
    "        if symptoms == header[element]:\n",
    "            model_inputs[element] = 1\n"
   ]
  },
  {
   "cell_type": "code",
   "execution_count": 195,
   "metadata": {},
   "outputs": [
    {
     "data": {
      "text/plain": [
       "1"
      ]
     },
     "execution_count": 195,
     "metadata": {},
     "output_type": "execute_result"
    }
   ],
   "source": [
    "prediction = model[0].predict([model_inputs])\n",
    "prediction[0]"
   ]
  },
  {
   "cell_type": "code",
   "execution_count": 196,
   "metadata": {},
   "outputs": [
    {
     "data": {
      "text/plain": [
       "'Cervical_spondylosis'"
      ]
     },
     "execution_count": 196,
     "metadata": {},
     "output_type": "execute_result"
    }
   ],
   "source": [
    "disease[prediction[0]]"
   ]
  },
  {
   "cell_type": "code",
   "execution_count": null,
   "metadata": {},
   "outputs": [],
   "source": []
  },
  {
   "cell_type": "code",
   "execution_count": null,
   "metadata": {},
   "outputs": [],
   "source": []
  }
 ],
 "metadata": {
  "kernelspec": {
   "display_name": "Python 3.6.10 64-bit ('impulse': conda)",
   "language": "python",
   "name": "python361064bitimpulseconda94fb25b4b1284e098fd55db75e1bbfbd"
  },
  "language_info": {
   "codemirror_mode": {
    "name": "ipython",
    "version": 3
   },
   "file_extension": ".py",
   "mimetype": "text/x-python",
   "name": "python",
   "nbconvert_exporter": "python",
   "pygments_lexer": "ipython3",
   "version": "3.6.10"
  }
 },
 "nbformat": 4,
 "nbformat_minor": 4
}
